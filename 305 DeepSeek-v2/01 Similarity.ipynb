{
 "cells": [
  {
   "cell_type": "code",
   "execution_count": 2,
   "id": "8863bec8-3426-4cb5-a69e-eaa7f91682f6",
   "metadata": {},
   "outputs": [],
   "source": [
    "import os\n",
    "os.environ[\"HF_HUB_ENABLE_HF_TRANSFER\"] = \"1\"\n",
    "\n",
    "import torch\n",
    "from transformers import AutoModel, AutoTokenizer\n"
   ]
  },
  {
   "cell_type": "markdown",
   "id": "d2d4b471-f57b-458a-bff9-e03e5cf96e31",
   "metadata": {},
   "source": [
    "# Model"
   ]
  },
  {
   "cell_type": "code",
   "execution_count": null,
   "id": "f96fb874-7c2d-4b9a-9e84-0a1ed4fd68a4",
   "metadata": {},
   "outputs": [
    {
     "data": {
      "application/vnd.jupyter.widget-view+json": {
       "model_id": "30b4930a1f8f4d6fac15785220e39da5",
       "version_major": 2,
       "version_minor": 0
      },
      "text/plain": [
       "Downloading shards:   0%|          | 0/55 [00:00<?, ?it/s]"
      ]
     },
     "metadata": {},
     "output_type": "display_data"
    },
    {
     "data": {
      "application/vnd.jupyter.widget-view+json": {
       "model_id": "8f156c69f224410eb654114bc3368792",
       "version_major": 2,
       "version_minor": 0
      },
      "text/plain": [
       "model-00054-of-000055.safetensors:   0%|          | 0.00/8.60G [00:00<?, ?B/s]"
      ]
     },
     "metadata": {},
     "output_type": "display_data"
    }
   ],
   "source": [
    "# 모델과 토크나이저 로드\n",
    "model_name = \"deepseek-ai/deepseek-v2.5\"  # 정확한 모델명 확인 필요\n",
    "tokenizer = AutoTokenizer.from_pretrained(model_name, trust_remote_code=True)\n",
    "model = AutoModel.from_pretrained(model_name, trust_remote_code=True)\n",
    "model.eval()  # 평가 모드로 설정"
   ]
  },
  {
   "cell_type": "code",
   "execution_count": null,
   "id": "20ef4a0f-06e4-4e28-a40b-9fc8956ce252",
   "metadata": {},
   "outputs": [],
   "source": [
    "# 모델과 토크나이저 로드\n",
    "model_name = \"deepseek-ai/deepseek-v2\"  # 정확한 모델명 확인 필요\n",
    "tokenizer = AutoTokenizer.from_pretrained(model_name, trust_remote_code=True)\n",
    "model = AutoModel.from_pretrained(model_name, trust_remote_code=True)\n",
    "model.eval()  # 평가 모드로 설정"
   ]
  },
  {
   "cell_type": "code",
   "execution_count": null,
   "id": "3ed75e0a-b938-4474-b005-1a14297ec453",
   "metadata": {},
   "outputs": [],
   "source": []
  }
 ],
 "metadata": {
  "kernelspec": {
   "display_name": "Python 3 (ipykernel)",
   "language": "python",
   "name": "python3"
  },
  "language_info": {
   "codemirror_mode": {
    "name": "ipython",
    "version": 3
   },
   "file_extension": ".py",
   "mimetype": "text/x-python",
   "name": "python",
   "nbconvert_exporter": "python",
   "pygments_lexer": "ipython3",
   "version": "3.12.9"
  }
 },
 "nbformat": 4,
 "nbformat_minor": 5
}
