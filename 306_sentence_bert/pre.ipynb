{
 "cells": [
  {
   "cell_type": "markdown",
   "metadata": {},
   "source": [
    "# BAAI/bge-small-en\n",
    "이거 꽤 되는거 같음 <br>\n",
    "\n",
    "근데 영어만 됨"
   ]
  },
  {
   "cell_type": "code",
   "execution_count": 1,
   "metadata": {},
   "outputs": [],
   "source": [
    "from transformers import AutoTokenizer, AutoModel\n",
    "import torch\n",
    "from torch.nn.functional import cosine_similarity"
   ]
  },
  {
   "cell_type": "code",
   "execution_count": 2,
   "metadata": {},
   "outputs": [],
   "source": [
    "# Load pre-trained embedding model (faster and good enough for product matching)\n",
    "model_name = \"BAAI/bge-small-en\"\n",
    "tokenizer = AutoTokenizer.from_pretrained(model_name)\n",
    "model = AutoModel.from_pretrained(model_name)"
   ]
  },
  {
   "cell_type": "code",
   "execution_count": 3,
   "metadata": {},
   "outputs": [
    {
     "name": "stdout",
     "output_type": "stream",
     "text": [
      "0.9928000569343567\n"
     ]
    }
   ],
   "source": [
    "# Example product info\n",
    "product1 = 'chicken jajamian pizza'\n",
    "product2 = 'pizza jajamian chicken'\n",
    "\n",
    "\n",
    "texts = [product1, product2]\n",
    "\n",
    "# Tokenize inputs\n",
    "inputs = tokenizer(texts, padding=True, truncation=True, return_tensors=\"pt\")\n",
    "\n",
    "# Get embeddings\n",
    "with torch.no_grad():\n",
    "    outputs = model(**inputs)\n",
    "    # Mean pooling\n",
    "    attention_mask = inputs['attention_mask']\n",
    "    token_embeddings = outputs.last_hidden_state\n",
    "    input_mask_expanded = attention_mask.unsqueeze(-1).expand(token_embeddings.size())\n",
    "    sum_embeddings = torch.sum(token_embeddings * input_mask_expanded, dim=1)\n",
    "    sum_mask = input_mask_expanded.sum(dim=1)\n",
    "    embeddings = sum_embeddings / sum_mask\n",
    "\n",
    "    \n",
    "# Compute cosine similarity\n",
    "similarity = cosine_similarity(embeddings[0], embeddings[1], dim=0).item()\n",
    "print(similarity)"
   ]
  },
  {
   "cell_type": "code",
   "execution_count": null,
   "metadata": {},
   "outputs": [],
   "source": []
  },
  {
   "cell_type": "code",
   "execution_count": null,
   "metadata": {},
   "outputs": [],
   "source": []
  }
 ],
 "metadata": {
  "kernelspec": {
   "display_name": "PyEnv 3.10.17",
   "language": "python",
   "name": "3.10.17"
  },
  "language_info": {
   "codemirror_mode": {
    "name": "ipython",
    "version": 3
   },
   "file_extension": ".py",
   "mimetype": "text/x-python",
   "name": "python",
   "nbconvert_exporter": "python",
   "pygments_lexer": "ipython3",
   "version": "3.10.17"
  }
 },
 "nbformat": 4,
 "nbformat_minor": 4
}
