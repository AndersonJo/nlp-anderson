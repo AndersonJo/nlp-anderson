{
 "cells": [
  {
   "cell_type": "code",
   "execution_count": 17,
   "id": "d46ee906-90bf-4f18-babd-2a11eedd4f1d",
   "metadata": {},
   "outputs": [],
   "source": [
    "%config IPCompleter.use_jedi=False"
   ]
  },
  {
   "cell_type": "markdown",
   "id": "5d55c8c3-ccf9-413c-92ea-ddc91682e5e3",
   "metadata": {},
   "source": [
    "# Reference \n",
    "\n",
    "[여기](https://colab.research.google.com/drive/1JZ-pXlmgRIYHm8yPLYY68Q28l9OYAL6H?usp=sharing#scrollTo=WZKIQNjZwdn1)에서 가져온 내용"
   ]
  },
  {
   "cell_type": "code",
   "execution_count": 10,
   "id": "10f50f26-be7e-40bf-979f-929e6cd7f50d",
   "metadata": {},
   "outputs": [],
   "source": [
    "!pip install -q transformers\n",
    "!rm ratings_test.txt\n",
    "!rm ratings_train.txt\n",
    "!wget -q https://raw.githubusercontent.com/e9t/nsmc/master/ratings_test.txt\n",
    "!wget -q https://raw.githubusercontent.com/e9t/nsmc/master/ratings_train.txt"
   ]
  },
  {
   "cell_type": "code",
   "execution_count": 3,
   "id": "0f6d849d-c66e-422a-996b-9a6a0e370134",
   "metadata": {},
   "outputs": [
    {
     "name": "stdout",
     "output_type": "stream",
     "text": [
      "id\tdocument\tlabel\n",
      "9976970\t아 더빙.. 진짜 짜증나네요 목소리\t0\n",
      "3819312\t흠...포스터보고 초딩영화줄....오버연기조차 가볍지 않구나\t1\n",
      "10265843\t너무재밓었다그래서보는것을추천한다\t0\n",
      "9045019\t교도소 이야기구먼 ..솔직히 재미는 없다..평점 조정\t0\n",
      "6483659\t사이몬페그의 익살스런 연기가 돋보였던 영화!스파이더맨에서 늙어보이기만 했던 커스틴 던스트가 너무나도 이뻐보였다\t1\n",
      "5403919\t막 걸음마 뗀 3세부터 초등학교 1학년생인 8살용영화.ㅋㅋㅋ...별반개도 아까움.\t0\n",
      "7797314\t원작의 긴장감을 제대로 살려내지못했다.\t0\n",
      "9443947\t별 반개도 아깝다 욕나온다 이응경 길용우 연기생활이몇년인지..정말 발로해도 그것보단 낫겟다 납치.감금만반복반복..이드라마는 가족도없다 연기못하는사람만모엿네\t0\n",
      "7156791\t액션이 없는데도 재미 있는 몇안되는 영화\t1\n"
     ]
    }
   ],
   "source": [
    "!head ratings_train.txt"
   ]
  },
  {
   "cell_type": "code",
   "execution_count": 1,
   "id": "4d98076c-fd4c-43e9-be03-89e4e2169f6e",
   "metadata": {},
   "outputs": [],
   "source": [
    "import pandas as pd\n",
    "import torch\n",
    "from torch.nn import functional as F\n",
    "from torch.utils.data import DataLoader, Dataset\n",
    "from tqdm.notebook import tqdm\n",
    "from transformers import AdamW, AutoTokenizer, ElectraForSequenceClassification\n",
    "\n",
    "device = torch.device(\"cpu\")"
   ]
  },
  {
   "cell_type": "markdown",
   "id": "2a1fa8d9-5bde-4703-9604-735aebf56315",
   "metadata": {},
   "source": [
    "# Data"
   ]
  },
  {
   "cell_type": "code",
   "execution_count": 2,
   "id": "7558144f-ac1c-427a-b51e-49baaecd5dfb",
   "metadata": {},
   "outputs": [
    {
     "name": "stdout",
     "output_type": "stream",
     "text": [
      "                 id          label\n",
      "count  1.461820e+05  146182.000000\n",
      "mean   6.779186e+06       0.498283\n",
      "std    2.919223e+06       0.499999\n",
      "min    3.300000e+01       0.000000\n",
      "25%    4.814832e+06       0.000000\n",
      "50%    7.581160e+06       0.000000\n",
      "75%    9.274760e+06       1.000000\n",
      "max    1.027815e+07       1.000000\n",
      "                 id         label\n",
      "count  4.915700e+04  49157.000000\n",
      "mean   6.752945e+06      0.502695\n",
      "std    2.937158e+06      0.499998\n",
      "min    6.010000e+02      0.000000\n",
      "25%    4.777143e+06      0.000000\n",
      "50%    7.565415e+06      1.000000\n",
      "75%    9.260204e+06      1.000000\n",
      "max    1.027809e+07      1.000000\n"
     ]
    }
   ],
   "source": [
    "class NSMCDataset(Dataset):\n",
    "    def __init__(self, csv_file):\n",
    "        self.dataset = pd.read_csv(csv_file, sep=\"\\t\").dropna(axis=0)\n",
    "        # 중복제거\n",
    "        self.dataset.drop_duplicates(subset=[\"document\"], inplace=True)\n",
    "        self.tokenizer = AutoTokenizer.from_pretrained(\n",
    "            \"monologg/koelectra-small-v2-discriminator\"\n",
    "        )\n",
    "\n",
    "        print(self.dataset.describe())\n",
    "\n",
    "    def __len__(self):\n",
    "        return len(self.dataset)\n",
    "\n",
    "    def __getitem__(self, idx):\n",
    "        row = self.dataset.iloc[idx, 1:3].values\n",
    "        text = row[0]\n",
    "        y = row[1]\n",
    "\n",
    "        inputs = self.tokenizer(\n",
    "            text,\n",
    "            return_tensors=\"pt\",\n",
    "            truncation=True,\n",
    "            max_length=256,\n",
    "            pad_to_max_length=True,\n",
    "            add_special_tokens=True,\n",
    "        )\n",
    "\n",
    "        input_ids = inputs[\"input_ids\"][0]\n",
    "        attention_mask = inputs[\"attention_mask\"][0]\n",
    "\n",
    "        return input_ids, attention_mask, y\n",
    "\n",
    "\n",
    "train_dataset = NSMCDataset(\"ratings_train.txt\")\n",
    "test_dataset = NSMCDataset(\"ratings_test.txt\")"
   ]
  },
  {
   "cell_type": "code",
   "execution_count": 3,
   "id": "6dec40fb-a2c4-40d2-bf6e-1de85bf933d4",
   "metadata": {},
   "outputs": [
    {
     "name": "stdout",
     "output_type": "stream",
     "text": [
      "Vocab Size    : 32200\n",
      "Encoded Tokens:  [2, 6745, 1065, 9710, 29950, 52, 124, 29951, 29962, 87, 29956, 650, 45, 29952, 70, 37, 24, 30341, 30041, 29991, 3]\n",
      "Decoded Tokens:  [CLS] 내게 능력 주시는 자 안에서 내가 모든 것을 할 수 있느니라 [SEP]\n"
     ]
    }
   ],
   "source": [
    "tokenizer = test_dataset.tokenizer\n",
    "encoded_tokens = tokenizer.encode(\"내게 능력 주시는 자 안에서 내가 모든 것을 할 수 있느니라\")\n",
    "decoded_tokens = tokenizer.decode(encoded_tokens)\n",
    "\n",
    "print(\"Vocab Size    :\", len(tokenizer.vocab))\n",
    "print(\"Encoded Tokens: \", encoded_tokens)\n",
    "print(\"Decoded Tokens: \", decoded_tokens)"
   ]
  },
  {
   "cell_type": "markdown",
   "id": "e81aeaf6-9c1b-4cc9-b137-1c3956798ae4",
   "metadata": {},
   "source": [
    "# Model"
   ]
  },
  {
   "cell_type": "code",
   "execution_count": 6,
   "id": "2f7509c6-bb61-49bb-99c5-e9272899ae32",
   "metadata": {},
   "outputs": [
    {
     "name": "stderr",
     "output_type": "stream",
     "text": [
      "Some weights of the model checkpoint at monologg/koelectra-base-v3-discriminator were not used when initializing ElectraForSequenceClassification: ['discriminator_predictions.dense.bias', 'discriminator_predictions.dense_prediction.weight', 'discriminator_predictions.dense_prediction.bias', 'discriminator_predictions.dense.weight']\n",
      "- This IS expected if you are initializing ElectraForSequenceClassification from the checkpoint of a model trained on another task or with another architecture (e.g. initializing a BertForSequenceClassification model from a BertForPreTraining model).\n",
      "- This IS NOT expected if you are initializing ElectraForSequenceClassification from the checkpoint of a model that you expect to be exactly identical (initializing a BertForSequenceClassification model from a BertForSequenceClassification model).\n",
      "Some weights of ElectraForSequenceClassification were not initialized from the model checkpoint at monologg/koelectra-base-v3-discriminator and are newly initialized: ['classifier.dense.bias', 'classifier.out_proj.bias', 'classifier.dense.weight', 'classifier.out_proj.weight']\n",
      "You should probably TRAIN this model on a down-stream task to be able to use it for predictions and inference.\n",
      "/home/anderson/.pyenv/versions/3.7.15/lib/python3.7/site-packages/transformers/tokenization_utils_base.py:2132: FutureWarning: The `pad_to_max_length` argument is deprecated and will be removed in a future version, use `padding=True` or `padding='longest'` to pad to the longest sequence in the batch, or use `padding='max_length'` to pad to a max length. In this case, you can give a specific length with `max_length` (e.g. `max_length=45`) or leave max_length to None to pad to the maximal input size of the model (e.g. 512 for Bert).\n",
      "  FutureWarning,\n"
     ]
    }
   ],
   "source": [
    "model_name = \"monologg/koelectra-base-v3-discriminator\"\n",
    "model = ElectraForSequenceClassification.from_pretrained(model_name).to(device)"
   ]
  },
  {
   "cell_type": "code",
   "execution_count": 17,
   "id": "39a09ebc-6036-4c83-ae1f-421ab955135d",
   "metadata": {},
   "outputs": [
    {
     "data": {
      "text/plain": [
       "tensor([[-0.0917,  0.1638]], grad_fn=<AddmmBackward0>)"
      ]
     },
     "execution_count": 17,
     "metadata": {},
     "output_type": "execute_result"
    }
   ],
   "source": [
    "text, attention_mask, y = train_dataset[0]\n",
    "output = model(\n",
    "    text.unsqueeze(0).to(device),\n",
    "    attention_mask=attention_mask.unsqueeze(0).to(device),\n",
    ")\n",
    "output[\"logits\"]"
   ]
  },
  {
   "cell_type": "markdown",
   "id": "95a1e67e-c22b-42ff-8911-5a0b53eefcd1",
   "metadata": {},
   "source": [
    "# Training"
   ]
  },
  {
   "cell_type": "code",
   "execution_count": 18,
   "id": "5cc7d995-de10-4fcf-886d-4b99b80f68b2",
   "metadata": {},
   "outputs": [],
   "source": [
    "epochs = 5\n",
    "batch_size = 16"
   ]
  },
  {
   "cell_type": "code",
   "execution_count": 19,
   "id": "45d00869-c90f-4cc3-a729-a5fc30b4e9a3",
   "metadata": {},
   "outputs": [],
   "source": [
    "optimizer = AdamW(model.parameters(), lr=5e-6)\n",
    "train_loader = DataLoader(train_dataset, batch_size=batch_size, shuffle=True)\n",
    "test_loader = DataLoader(test_dataset, batch_size=16, shuffle=True)"
   ]
  },
  {
   "cell_type": "code",
   "execution_count": null,
   "id": "240e6ae7-84d3-4fe4-8ab1-c6d681c6e2a3",
   "metadata": {},
   "outputs": [
    {
     "data": {
      "application/vnd.jupyter.widget-view+json": {
       "model_id": "59bd03a0662f438488bac1fbfbbac4e6",
       "version_major": 2,
       "version_minor": 0
      },
      "text/plain": [
       "  0%|          | 0/9137 [00:00<?, ?it/s]"
      ]
     },
     "metadata": {},
     "output_type": "display_data"
    }
   ],
   "source": [
    "losses = []\n",
    "accuracies = []\n",
    "\n",
    "for i in range(epochs):\n",
    "    total_loss = 0.0\n",
    "    correct = 0\n",
    "    total = 0\n",
    "    batches = 0\n",
    "\n",
    "    model.train()\n",
    "\n",
    "    for input_ids_batch, attention_masks_batch, y_batch in tqdm(train_loader):\n",
    "        optimizer.zero_grad()\n",
    "        y_batch = y_batch.to(device)\n",
    "        y_pred = model(\n",
    "            input_ids_batch.to(device),\n",
    "            attention_mask=attention_masks_batch.to(device),\n",
    "        )[0]\n",
    "        loss = F.cross_entropy(y_pred, y_batch)\n",
    "        loss.backward()\n",
    "        optimizer.step()\n",
    "\n",
    "        total_loss += loss.item()\n",
    "\n",
    "        _, predicted = torch.max(y_pred, 1)\n",
    "        correct += (predicted == y_batch).sum()\n",
    "        total += len(y_batch)\n",
    "\n",
    "        batches += 1\n",
    "        if batches % 100 == 0:\n",
    "            print(\n",
    "                \"Batch Loss:\", total_loss, \"Accuracy:\", correct.float() / total\n",
    "            )\n",
    "\n",
    "    losses.append(total_loss)\n",
    "    accuracies.append(correct.float() / total)\n",
    "    print(\"Train Loss:\", total_loss, \"Accuracy:\", correct.float() / total)"
   ]
  },
  {
   "cell_type": "markdown",
   "id": "5bc27d8d-8f0e-48b7-9c91-feab18ca1284",
   "metadata": {},
   "source": [
    "# Evaluation"
   ]
  },
  {
   "cell_type": "code",
   "execution_count": null,
   "id": "f80a5d75-110f-4744-8ede-306d36a8a15a",
   "metadata": {},
   "outputs": [],
   "source": [
    "model.eval()\n",
    "\n",
    "test_correct = 0\n",
    "test_total = 0\n",
    "\n",
    "for input_ids_batch, attention_masks_batch, y_batch in tqdm(test_loader):\n",
    "  y_batch = y_batch.to(device)\n",
    "  y_pred = model(input_ids_batch.to(device), attention_mask=attention_masks_batch.to(device))[0]\n",
    "  _, predicted = torch.max(y_pred, 1)\n",
    "  test_correct += (predicted == y_batch).sum()\n",
    "  test_total += len(y_batch)\n",
    "\n",
    "print(\"Accuracy:\", test_correct.float() / test_total)"
   ]
  },
  {
   "cell_type": "code",
   "execution_count": null,
   "id": "92856c6e-1394-4ca4-b4ef-85b4e1bce4b9",
   "metadata": {},
   "outputs": [],
   "source": []
  }
 ],
 "metadata": {
  "kernelspec": {
   "display_name": "Python 3 (ipykernel)",
   "language": "python",
   "name": "python3"
  },
  "language_info": {
   "codemirror_mode": {
    "name": "ipython",
    "version": 3
   },
   "file_extension": ".py",
   "mimetype": "text/x-python",
   "name": "python",
   "nbconvert_exporter": "python",
   "pygments_lexer": "ipython3",
   "version": "3.7.15"
  }
 },
 "nbformat": 4,
 "nbformat_minor": 5
}
