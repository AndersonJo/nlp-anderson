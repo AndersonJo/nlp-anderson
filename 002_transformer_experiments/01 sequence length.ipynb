{
 "cells": [
  {
   "cell_type": "code",
   "execution_count": 2,
   "id": "37c3b223-e382-49ac-9cfb-9a1ea60ade51",
   "metadata": {},
   "outputs": [
    {
     "name": "stdout",
     "output_type": "stream",
     "text": [
      "device: cuda\n"
     ]
    }
   ],
   "source": [
    "import time\n",
    "\n",
    "import pandas as pd\n",
    "import torch\n",
    "from huggingface_hub import login\n",
    "from transformers import AutoModelForCausalLM, AutoTokenizer\n",
    "\n",
    "# GPU 사용 여부 확인\n",
    "device = \"cuda\" if torch.cuda.is_available() else \"cpu\"\n",
    "print(f\"device: {device}\")"
   ]
  },
  {
   "cell_type": "markdown",
   "id": "8e934697-0798-4d0b-b3ce-f97623883b66",
   "metadata": {},
   "source": [
    "# Model"
   ]
  },
  {
   "cell_type": "code",
   "execution_count": 3,
   "id": "5a265ca5-8373-4e4c-bd17-6ecaee5bc640",
   "metadata": {},
   "outputs": [
    {
     "data": {
      "text/plain": [
       "LlamaForCausalLM(\n",
       "  (model): LlamaModel(\n",
       "    (embed_tokens): Embedding(128256, 2048)\n",
       "    (layers): ModuleList(\n",
       "      (0-15): 16 x LlamaDecoderLayer(\n",
       "        (self_attn): LlamaAttention(\n",
       "          (q_proj): Linear(in_features=2048, out_features=2048, bias=False)\n",
       "          (k_proj): Linear(in_features=2048, out_features=512, bias=False)\n",
       "          (v_proj): Linear(in_features=2048, out_features=512, bias=False)\n",
       "          (o_proj): Linear(in_features=2048, out_features=2048, bias=False)\n",
       "        )\n",
       "        (mlp): LlamaMLP(\n",
       "          (gate_proj): Linear(in_features=2048, out_features=8192, bias=False)\n",
       "          (up_proj): Linear(in_features=2048, out_features=8192, bias=False)\n",
       "          (down_proj): Linear(in_features=8192, out_features=2048, bias=False)\n",
       "          (act_fn): SiLU()\n",
       "        )\n",
       "        (input_layernorm): LlamaRMSNorm((2048,), eps=1e-05)\n",
       "        (post_attention_layernorm): LlamaRMSNorm((2048,), eps=1e-05)\n",
       "      )\n",
       "    )\n",
       "    (norm): LlamaRMSNorm((2048,), eps=1e-05)\n",
       "    (rotary_emb): LlamaRotaryEmbedding()\n",
       "  )\n",
       "  (lm_head): Linear(in_features=2048, out_features=128256, bias=False)\n",
       ")"
      ]
     },
     "execution_count": 3,
     "metadata": {},
     "output_type": "execute_result"
    }
   ],
   "source": [
    "# 모델 불러오기 (로컬 경로 or Huggingface 모델명)\n",
    "model_path = \"meta-llama/Llama-3.2-1B\"  # 또는 \"meta-llama/Meta-Llama-3-8B\"\n",
    "tokenizer = AutoTokenizer.from_pretrained(model_path)\n",
    "model = AutoModelForCausalLM.from_pretrained(model_path, torch_dtype=torch.float16).to(\n",
    "    device\n",
    ")\n",
    "model.eval()"
   ]
  },
  {
   "cell_type": "code",
   "execution_count": 16,
   "id": "252abec5-dcd4-4181-9adb-324c98f68cbd",
   "metadata": {},
   "outputs": [
    {
     "name": "stdout",
     "output_type": "stream",
     "text": [
      "   seq_len      shape  inference_time  max_memory_MB\n",
      "0       64    (1, 64)          0.0101        2373.51\n",
      "1      128   (1, 128)          0.0104        2378.33\n",
      "2      256   (1, 256)          0.0148        2390.36\n",
      "3      512   (1, 512)          0.0265        2414.44\n",
      "4     1024  (1, 1024)          0.0437        2462.58\n",
      "5     2048  (1, 2048)          0.0850        2558.88\n",
      "6     4096  (1, 4096)          0.1615        2751.46\n"
     ]
    }
   ],
   "source": [
    "# 시퀀스 길이 리스트 (점점 증가)\n",
    "sequence_lengths = [64, 128, 256, 512, 1024, 2048, 4096]\n",
    "\n",
    "# 측정 결과 저장용\n",
    "results = []\n",
    "\n",
    "for seq_len in sequence_lengths:\n",
    "    prompt = \"Hello world. \" * (seq_len // 3)  # 대충 seq_len에 맞는 텍스트 생성\n",
    "    inputs = tokenizer(prompt, return_tensors=\"pt\", truncation=True, max_length=seq_len).to(device)\n",
    "\n",
    "    torch.cuda.empty_cache()\n",
    "    torch.cuda.reset_peak_memory_stats()\n",
    "\n",
    "    start = time.time()\n",
    "    with torch.no_grad():\n",
    "        _ = model.generate(**inputs, max_new_tokens=1, pad_token_id=tokenizer.eos_token_id)\n",
    "    end = time.time()\n",
    "\n",
    "    # GPU 사용량 (MB)\n",
    "    max_memory = torch.cuda.max_memory_allocated(device) / (1024 * 1024)\n",
    "\n",
    "    results.append({\n",
    "        \"seq_len\": seq_len,\n",
    "        \"shape\": inputs['input_ids'].shape,\n",
    "        \"inference_time\": round(end - start, 4),\n",
    "        \"max_memory_MB\": round(max_memory, 2)\n",
    "    })\n",
    "\n",
    "# 결과 출력\n",
    "import pandas as pd\n",
    "df = pd.DataFrame(results)\n",
    "print(df)"
   ]
  },
  {
   "cell_type": "code",
   "execution_count": null,
   "id": "09a60ddd-eda1-496a-8d66-680c78b191d6",
   "metadata": {},
   "outputs": [],
   "source": []
  }
 ],
 "metadata": {
  "kernelspec": {
   "display_name": "Python 3 (ipykernel)",
   "language": "python",
   "name": "python3"
  },
  "language_info": {
   "codemirror_mode": {
    "name": "ipython",
    "version": 3
   },
   "file_extension": ".py",
   "mimetype": "text/x-python",
   "name": "python",
   "nbconvert_exporter": "python",
   "pygments_lexer": "ipython3",
   "version": "3.12.9"
  }
 },
 "nbformat": 4,
 "nbformat_minor": 5
}
